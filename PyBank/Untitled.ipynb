{
 "cells": [
  {
   "cell_type": "code",
   "execution_count": 4,
   "id": "80b8bf0d",
   "metadata": {},
   "outputs": [],
   "source": [
    "import csv\n",
    "\n",
    "# Read the CSV file and store the data in lists\n",
    "with open('Resources/budget_data.csv', 'r') as csvfile:\n",
    "    csvreader = csv.reader(csvfile, delimiter=',')\n",
    "    next(csvreader) # Skip the header row\n",
    "    dates = []\n",
    "    profits = []\n",
    "    for row in csvreader:\n",
    "        dates.append(row[0])\n",
    "        profits.append(int(row[1]))"
   ]
  },
  {
   "cell_type": "code",
   "execution_count": 5,
   "id": "a33e153c",
   "metadata": {},
   "outputs": [],
   "source": [
    "# Calculate the required values\n",
    "total_months = len(dates)\n",
    "total_profit = sum(profits)\n",
    "changes = [profits[i+1]-profits[i] for i in range(len(profits)-1)]\n",
    "average_change = sum(changes)/len(changes)\n",
    "greatest_increase = max(changes)\n",
    "greatest_decrease = min(changes)\n",
    "greatest_increase_date = dates[changes.index(greatest_increase)+1]\n",
    "greatest_decrease_date = dates[changes.index(greatest_decrease)+1]"
   ]
  },
  {
   "cell_type": "code",
   "execution_count": 6,
   "id": "6119bb71",
   "metadata": {},
   "outputs": [
    {
     "name": "stdout",
     "output_type": "stream",
     "text": [
      "Financial Analysis\n",
      "----------------------------\n",
      "Total Months: 86\n",
      "Total: $22564198\n",
      "Average Change: $-8311.11\n",
      "Greatest Increase in Profits: Aug-16 ($1862002)\n",
      "Greatest Decrease in Profits: Feb-14 ($-1825558)\n"
     ]
    }
   ],
   "source": [
    "# Print the analysis to the terminal\n",
    "print(\"Financial Analysis\")\n",
    "print(\"----------------------------\")\n",
    "print(f\"Total Months: {total_months}\")\n",
    "print(f\"Total: ${total_profit}\")\n",
    "print(f\"Average Change: ${average_change:.2f}\")\n",
    "print(f\"Greatest Increase in Profits: {greatest_increase_date} (${greatest_increase})\")\n",
    "print(f\"Greatest Decrease in Profits: {greatest_decrease_date} (${greatest_decrease})\")"
   ]
  },
  {
   "cell_type": "code",
   "execution_count": 7,
   "id": "d7822825",
   "metadata": {},
   "outputs": [],
   "source": [
    "# Export a text file with the results\n",
    "with open('financial_analysis.txt', 'w') as outfile:\n",
    "    outfile.write(\"Financial Analysis\\n\")\n",
    "    outfile.write(\"----------------------------\\n\")\n",
    "    outfile.write(f\"Total Months: {total_months}\\n\")\n",
    "    outfile.write(f\"Total: ${total_profit}\\n\")\n",
    "    outfile.write(f\"Average Change: ${average_change:.2f}\\n\")\n",
    "    outfile.write(f\"Greatest Increase in Profits: {greatest_increase_date} (${greatest_increase})\\n\")\n",
    "    outfile.write(f\"Greatest Decrease in Profits: {greatest_decrease_date} (${greatest_decrease})\\n\")"
   ]
  }
 ],
 "metadata": {
  "kernelspec": {
   "display_name": "Python 3 (ipykernel)",
   "language": "python",
   "name": "python3"
  },
  "language_info": {
   "codemirror_mode": {
    "name": "ipython",
    "version": 3
   },
   "file_extension": ".py",
   "mimetype": "text/x-python",
   "name": "python",
   "nbconvert_exporter": "python",
   "pygments_lexer": "ipython3",
   "version": "3.9.13"
  }
 },
 "nbformat": 4,
 "nbformat_minor": 5
}
